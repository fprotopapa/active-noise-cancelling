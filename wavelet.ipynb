{
 "cells": [
  {
   "cell_type": "markdown",
   "metadata": {},
   "source": [
    "# Filtering and Restoring of Mixed and Noise Polluted Audio Samples Using Different Approaches"
   ]
  },
  {
   "cell_type": "markdown",
   "metadata": {},
   "source": [
    "# 3. Wavelet Transform"
   ]
  },
  {
   "cell_type": "markdown",
   "metadata": {},
   "source": [
    "## Load Edited Audio Samples"
   ]
  },
  {
   "cell_type": "code",
   "execution_count": null,
   "metadata": {},
   "outputs": [],
   "source": [
    "import os\n",
    "import soundfile as sf\n",
    "import numpy as np\n",
    "\n",
    "inp_mixed_folder = 'mixed_signals'\n",
    "inp_folder = 'audio_samples'\n",
    "wavelet_folder = 'wavelet_samples'"
   ]
  },
  {
   "cell_type": "markdown",
   "metadata": {},
   "source": [
    "Load Original Audio Files"
   ]
  },
  {
   "cell_type": "code",
   "execution_count": null,
   "metadata": {},
   "outputs": [],
   "source": [
    "file_names = ['speech.wav', 'street.wav', 'music.wav', 'white_noise.wav']\n",
    "\n",
    "audio_speech, sr_speech = sf.read(os.path.join(inp_folder, file_names[0]))\n",
    "audio_street, sr_street = sf.read(os.path.join(inp_folder, file_names[1]))\n",
    "audio_music, sr_music = sf.read(os.path.join(inp_folder, file_names[2]))\n",
    "audio_wnoise, sr_wnoise = sf.read(os.path.join(inp_folder, file_names[3]))\n",
    "print(\"Array Type is: {}\".format(audio_music.dtype))\n",
    "\n",
    "audio_files = [audio_speech, audio_street, audio_music, audio_wnoise]\n",
    "sample_rates = [sr_speech, sr_street, sr_music, sr_wnoise]\n",
    "\n",
    "for name, sr, audio in zip(file_names, sample_rates, audio_files):\n",
    "    print(\"File: {}, Sample Rate: {}, Samples: {}, Time: {}sec\".format(name, sr, len(audio), len(audio)/sr))"
   ]
  },
  {
   "cell_type": "markdown",
   "metadata": {},
   "source": [
    "Load Mixed Signals\n",
    "\n",
    "Generate four observations $d$. \n",
    "\n",
    "1. Music + White Noise $d_{m+wn}$\n",
    "1. Street Noise + Music $d_{sn+m}$\n",
    "1. Street Noise + Music + Speech $d_{sn+m+s}$\n",
    "1. Speech + White Noise $d_{s+wn}$"
   ]
  },
  {
   "cell_type": "code",
   "execution_count": null,
   "metadata": {},
   "outputs": [],
   "source": [
    "file_names_obsv = ['music_wn.wav', 'street_music.wav', 'street_music_speech.wav', 'speech_wn.wav']\n",
    "\n",
    "audio_m_wn, sr_m_wn = sf.read(os.path.join(inp_folder, file_names[0]))\n",
    "audio_s_m, sr_s_m = sf.read(os.path.join(inp_folder, file_names[1]))\n",
    "audio_s_m_sp, sr_s_m_sp = sf.read(os.path.join(inp_folder, file_names[2]))\n",
    "audio_sp_wn, sr_sp_wn = sf.read(os.path.join(inp_folder, file_names[3]))\n",
    "print(\"Array Type is: {}\".format(audio_music.dtype))\n",
    "\n",
    "observations = [audio_m_wn, audio_s_m, audio_s_m_sp, audio_sp_wn]\n",
    "sample_rates_obsv = [sr_m_wn, sr_s_m, sr_s_m_sp, sr_sp_wn]\n",
    "max_length = len(observations[0])\n",
    "\n",
    "for name, sr, audio in zip(file_names_obsv, sample_rates_obsv, observations):\n",
    "    print(\"File: {}, Sample Rate: {}, Samples: {}, Time: {}sec\".format(name, sr, len(audio), len(audio)/sr))"
   ]
  },
  {
   "cell_type": "markdown",
   "metadata": {},
   "source": [
    "# Wavelet Transform\n",
    "\n",
    "Source:\n",
    "* [Audio Classification using Wavelet Transform and Deep Learning, Aditya Dutt](https://medium.com/mlearning-ai/audio-classification-using-wavelet-transform-and-deep-learning-f9f0978fa246)\n",
    "* [Choose a Wavelet, MathWorks](https://de.mathworks.com/help/wavelet/gs/choose-a-wavelet.html)\n",
    "* https://www.kaggle.com/theoviel/denoising-with-direct-wavelet-transform"
   ]
  },
  {
   "cell_type": "code",
   "execution_count": null,
   "metadata": {},
   "outputs": [],
   "source": [
    "import pywt\n",
    "import matplotlib.pyplot as plt\n",
    "\n",
    "np.random.seed(10)"
   ]
  },
  {
   "cell_type": "code",
   "execution_count": null,
   "metadata": {},
   "outputs": [],
   "source": [
    "# print the wavelet families available\n",
    "print(pywt.families())\n",
    "# print a list of available wavelets from one family\n",
    "print(pywt.wavelist(kind='discrete'))"
   ]
  },
  {
   "cell_type": "code",
   "execution_count": null,
   "metadata": {},
   "outputs": [],
   "source": [
    "wavelet = 'db5'\n",
    "mode = 'per'"
   ]
  },
  {
   "cell_type": "code",
   "execution_count": null,
   "metadata": {},
   "outputs": [],
   "source": [
    "def madev(d, axis=None):\n",
    "    \"\"\" Mean absolute deviation of a signal \"\"\"\n",
    "    return np.mean(np.absolute(d - np.mean(d, axis)), axis)"
   ]
  },
  {
   "cell_type": "code",
   "execution_count": null,
   "metadata": {},
   "outputs": [],
   "source": [
    "def wavelet_denoising(signal, wavelet='db4', mode='per', level=1):\n",
    "    coeff = pywt.wavedec(signal, wavelet, mode=mode)\n",
    "    sigma = (1/0.6745) * madev(coeff[-level])\n",
    "    uthresh = sigma * np.sqrt(2 * np.log(len(signal)))\n",
    "    coeff[1:] = (pywt.threshold(i, value=uthresh, mode='hard') for i in coeff[1:])\n",
    "    return pywt.waverec(coeff, wavelet, mode=mode)"
   ]
  },
  {
   "cell_type": "code",
   "execution_count": null,
   "metadata": {},
   "outputs": [],
   "source": [
    "def plot_wavelet(signal, wavelet='db4', mode='per'):\n",
    "    coeffs = pywt.wavedec(signal, wavelet, mode=mode)\n",
    "    fig, axs = plt.subplots(len(coeffs)+1, 1, figsize=[18, 30], sharex=True, constrained_layout = True)\n",
    "    fig.supylabel('Amplitude', fontsize=20)\n",
    "\n",
    "    axs[0].plot(signal, lw=5)\n",
    "    axs[0].set_title('Mixed Data', fontsize=25)\n",
    "\n",
    "    for ii, coeff in enumerate(coeffs):\n",
    "        axs[ii+1].plot(coeff, lw=5)\n",
    "        axs[ii+1].set_title('c'+ str(ii), fontsize=25)\n",
    "\n",
    "    axs[len(coeffs)].set_xlabel('Samples', fontsize=20)\n",
    "\n",
    "    for ax in axs:\n",
    "        ax.set_xlim(0)\n",
    "        ax.tick_params(labelsize=15)\n",
    "        ax.grid()"
   ]
  },
  {
   "cell_type": "code",
   "execution_count": null,
   "metadata": {},
   "outputs": [],
   "source": [
    "compare_wavelets = False\n",
    "if compare_wavelets:\n",
    "    for wav in pywt.wavelist():\n",
    "        try:\n",
    "            filtered = wavelet_denoising(observations[0], wavelet=wav, mode=mode, level=1)\n",
    "        except:\n",
    "            pass\n",
    "        plt.figure(figsize=(10, 6))\n",
    "        plt.plot(filtered, '--', label='Filtered')\n",
    "        plt.plot(observations[0], ':', label='Raw')\n",
    "        plt.legend()\n",
    "        plt.title(f\"DWT Denoising with {wav} Wavelet\", size=15)  "
   ]
  },
  {
   "cell_type": "markdown",
   "metadata": {},
   "source": [
    "# Speech + White Noise $d_{s+wn}$"
   ]
  },
  {
   "cell_type": "code",
   "execution_count": null,
   "metadata": {},
   "outputs": [],
   "source": [
    "plot_wavelet(observations[3], wavelet, mode)"
   ]
  },
  {
   "cell_type": "code",
   "execution_count": null,
   "metadata": {},
   "outputs": [],
   "source": [
    "recov_spwn = wavelet_denoising(observations[3], wavelet, mode)\n",
    "\n",
    "fig, axs = plt.subplots(3, 1, figsize=[18, 10], sharex=True, constrained_layout = True)\n",
    "fig.supylabel('Amplitude', fontsize=20)\n",
    "\n",
    "axs[0].plot(observations[3], lw=5)\n",
    "axs[0].set_title('Mixed Data', fontsize=25)\n",
    "\n",
    "axs[1].plot(recov_spwn, lw=5)\n",
    "axs[1].set_title('Recovered Signal', fontsize=25)\n",
    "\n",
    "axs[2].plot(audio_files[0], lw=5)\n",
    "axs[2].set_title('Speech Signal', fontsize=25)\n",
    "\n",
    "for ax in axs:\n",
    "    ax.set_xlim(0)\n",
    "    ax.tick_params(labelsize=15)\n",
    "    ax.grid()"
   ]
  },
  {
   "cell_type": "markdown",
   "metadata": {},
   "source": [
    "# Street Noise + Music $d_{sn+m}$"
   ]
  },
  {
   "cell_type": "code",
   "execution_count": null,
   "metadata": {},
   "outputs": [],
   "source": [
    "coeff_dsnm = calc_wavelet(d_sn_m, wavelet, mode)"
   ]
  },
  {
   "cell_type": "code",
   "execution_count": null,
   "metadata": {},
   "outputs": [],
   "source": [
    "plot_wavelet(coeff_dsnm, d_sn_m)"
   ]
  },
  {
   "cell_type": "code",
   "execution_count": null,
   "metadata": {},
   "outputs": [],
   "source": [
    "recov_dsnm = recover_wavelet(coeff_dsnm, 0, 5)\n",
    "\n",
    "fig, axs = plt.subplots(4, 1, figsize=[18, 10], sharex=True, constrained_layout = True)\n",
    "fig.supylabel('Amplitude', fontsize=20)\n",
    "\n",
    "axs[0].plot(d_sn_m, lw=5)\n",
    "axs[0].set_title('Mixed Data', fontsize=25)\n",
    "\n",
    "axs[1].plot(recov_dsnm, lw=5)\n",
    "axs[1].set_title('Recovered Signal', fontsize=25)\n",
    "\n",
    "axs[2].plot(audio_files[1], lw=5)\n",
    "axs[2].set_title('Street Noise', fontsize=25)\n",
    "\n",
    "axs[3].plot(audio_files[2], lw=5)\n",
    "axs[3].set_title('Music Signal', fontsize=25)\n",
    "\n",
    "for ax in axs:\n",
    "    ax.set_xlim(0)\n",
    "    ax.tick_params(labelsize=15)\n",
    "    ax.grid()"
   ]
  },
  {
   "cell_type": "markdown",
   "metadata": {},
   "source": [
    "# Music + White Noise $d_{m+wn}$"
   ]
  },
  {
   "cell_type": "code",
   "execution_count": null,
   "metadata": {},
   "outputs": [],
   "source": [
    "coeff_dmwn = calc_wavelet(d_m_wn, wavelet, mode)"
   ]
  },
  {
   "cell_type": "code",
   "execution_count": null,
   "metadata": {},
   "outputs": [],
   "source": [
    "plot_wavelet(coeff_dmwn, d_m_wn)"
   ]
  },
  {
   "cell_type": "code",
   "execution_count": null,
   "metadata": {},
   "outputs": [],
   "source": [
    "recov_dmwn = recover_wavelet(coeff_dmwn, 0, 4)\n",
    "\n",
    "fig, axs = plt.subplots(4, 1, figsize=[18, 10], sharex=True, constrained_layout = True)\n",
    "fig.supylabel('Amplitude', fontsize=20)\n",
    "\n",
    "axs[0].plot(d_m_wn, lw=5)\n",
    "axs[0].set_title('Mixed Data', fontsize=25)\n",
    "\n",
    "axs[1].plot(recov_dmwn, lw=5)\n",
    "axs[1].set_title('Recovered Signal', fontsize=25)\n",
    "\n",
    "axs[2].plot(audio_files[3], lw=5)\n",
    "axs[2].set_title('White Noise', fontsize=25)\n",
    "\n",
    "axs[3].plot(audio_files[2], lw=5)\n",
    "axs[3].set_title('Music Signal', fontsize=25)\n",
    "\n",
    "for ax in axs:\n",
    "    ax.set_xlim(0)\n",
    "    ax.tick_params(labelsize=15)\n",
    "    ax.grid()"
   ]
  },
  {
   "cell_type": "markdown",
   "metadata": {},
   "source": [
    "# Street Noise + Music + Speec $d_{sn+m+s}$"
   ]
  },
  {
   "cell_type": "code",
   "execution_count": null,
   "metadata": {},
   "outputs": [],
   "source": [
    "coeff_snms = calc_wavelet(d_sn_m_s, wavelet, mode)"
   ]
  },
  {
   "cell_type": "code",
   "execution_count": null,
   "metadata": {},
   "outputs": [],
   "source": [
    "plot_wavelet(coeff_snms, d_sn_m_s)"
   ]
  },
  {
   "cell_type": "code",
   "execution_count": null,
   "metadata": {},
   "outputs": [],
   "source": [
    "recov_snms = recover_wavelet(coeff_snms, 0, 5)\n",
    "\n",
    "fig, axs = plt.subplots(5, 1, figsize=[18, 10], sharex=True, constrained_layout = True)\n",
    "fig.supylabel('Amplitude', fontsize=20)\n",
    "\n",
    "axs[0].plot(d_sn_m_s, lw=5)\n",
    "axs[0].set_title('Mixed Data', fontsize=25)\n",
    "\n",
    "axs[1].plot(recov_snms, lw=5)\n",
    "axs[1].set_title('Recovered Signal', fontsize=25)\n",
    "\n",
    "axs[2].plot(audio_files[1], lw=5)\n",
    "axs[2].set_title('Street Noise', fontsize=25)\n",
    "\n",
    "axs[3].plot(audio_files[2], lw=5)\n",
    "axs[3].set_title('Music Signal', fontsize=25)\n",
    "\n",
    "axs[4].plot(audio_files[0], lw=5)\n",
    "axs[4].set_title('Speech Signal', fontsize=25)\n",
    "\n",
    "for ax in axs:\n",
    "    ax.set_xlim(0)\n",
    "    ax.tick_params(labelsize=15)\n",
    "    ax.grid()"
   ]
  }
 ],
 "metadata": {
  "interpreter": {
   "hash": "8f290e9bb47e8cefb2a6a7867fb7ca058fb5b0f6b464d9af75d9c3f02494833d"
  },
  "kernelspec": {
   "display_name": "Python 3.9.7 ('anc')",
   "language": "python",
   "name": "python3"
  },
  "language_info": {
   "codemirror_mode": {
    "name": "ipython",
    "version": 3
   },
   "file_extension": ".py",
   "mimetype": "text/x-python",
   "name": "python",
   "nbconvert_exporter": "python",
   "pygments_lexer": "ipython3",
   "version": "3.9.7"
  },
  "orig_nbformat": 4
 },
 "nbformat": 4,
 "nbformat_minor": 2
}
