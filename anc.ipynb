{
 "cells": [
  {
   "cell_type": "markdown",
   "id": "400b255e-2d0b-4e63-8e81-f8a43e3d66c0",
   "metadata": {},
   "source": [
    "# Generate Test Signals"
   ]
  },
  {
   "cell_type": "code",
   "execution_count": null,
   "id": "ea5f63ee-3797-4b27-a53b-47f272341c64",
   "metadata": {},
   "outputs": [],
   "source": [
    "import numpy as np\n",
    "from scipy import signal as sig\n",
    "import matplotlib.pyplot as plt\n",
    "\n",
    "np.random.seed(10)"
   ]
  },
  {
   "cell_type": "markdown",
   "id": "6af6b277-10f6-4c4d-9fbb-32d31b68235a",
   "metadata": {},
   "source": [
    "### Sine, Sawtooth and Random"
   ]
  },
  {
   "cell_type": "code",
   "execution_count": null,
   "id": "97e429eb-7cc1-40a3-8449-25f75dcab62b",
   "metadata": {},
   "outputs": [],
   "source": [
    "samples = np.linspace(0, 200, 1000)\n",
    "\n",
    "sig_sine = np.sin(samples * 1)\n",
    "sig_saw = sig.sawtooth(samples * 1.9)\n",
    "sig_rand = np.random.random(len(samples)) / 5\n",
    "\n",
    "max_amp_sine = max(sig_sine)\n",
    "max_amp_saw = max(sig_saw)\n",
    "max_amp_rand = max(sig_rand)"
   ]
  },
  {
   "cell_type": "markdown",
   "id": "e980c76f-0136-4c1c-8e64-5635680b57b7",
   "metadata": {},
   "source": [
    "# Mix Test Signals"
   ]
  },
  {
   "cell_type": "code",
   "execution_count": null,
   "id": "14dc8435-c858-4dee-a37a-a5cfd0ef056b",
   "metadata": {},
   "outputs": [],
   "source": [
    "test_mix = sig_sine + sig_saw + sig_rand"
   ]
  },
  {
   "cell_type": "code",
   "execution_count": null,
   "id": "f0b155f2-48d7-4ccb-9e0c-850529408ac8",
   "metadata": {},
   "outputs": [],
   "source": [
    "fig, axs = plt.subplots(4, 1, figsize=[18, 10], sharex=True, constrained_layout = True)\n",
    "\n",
    "axs[0].plot(sig_sine, lw=5)\n",
    "axs[0].set_title('Sine', fontsize=25)\n",
    "\n",
    "axs[1].plot(sig_saw, lw=5, color='red')\n",
    "axs[1].set_title('Sawtooth', fontsize=25)\n",
    "axs[1].set_ylabel('Amplitude', fontsize=20)\n",
    "\n",
    "axs[2].plot(sig_rand, lw=5, color='green')\n",
    "axs[2].set_title('Random', fontsize=25)\n",
    "axs[2].set_ylabel('Amplitude', fontsize=20)\n",
    "\n",
    "axs[3].plot(test_mix, lw=5, color='black')\n",
    "axs[3].set_title('Mixed', fontsize=25)\n",
    "axs[3].set_xlabel('Samples', fontsize=20)\n",
    "\n",
    "for ax in axs:\n",
    "    ax.set_xlim(samples[0], samples[300])\n",
    "    ax.tick_params(labelsize=15)\n",
    "    ax.grid()"
   ]
  },
  {
   "cell_type": "markdown",
   "id": "94dc04d6-d20c-439c-a883-a03bb92a77bd",
   "metadata": {},
   "source": [
    "# Remove Signal Components through Inversion "
   ]
  },
  {
   "cell_type": "code",
   "execution_count": null,
   "id": "e16f34ff-6b0e-4985-b7e7-4a64620c9c41",
   "metadata": {},
   "outputs": [],
   "source": [
    "def remove_with_inversion(signal, noise):\n",
    "    return signal - noise"
   ]
  },
  {
   "cell_type": "code",
   "execution_count": null,
   "id": "68fa9e99-0e6c-426e-b125-f4b70cde12f9",
   "metadata": {},
   "outputs": [],
   "source": [
    "fig, axs = plt.subplots(2, 1, figsize=[18, 10], sharex=True, constrained_layout = True)\n",
    "fig.supylabel('Amplitude', fontsize=20)\n",
    "\n",
    "axs[0].plot(test_mix, lw=5, color='black')\n",
    "axs[0].set_title('Mixed', fontsize=25)\n",
    "\n",
    "axs[1].plot(remove_with_inversion(test_mix, sig_saw + sig_rand), lw=5, color='red')\n",
    "axs[1].set_title('Removed Sawtooth', fontsize=25)\n",
    "axs[1].set_xlabel('Samples', fontsize=20)\n",
    "\n",
    "for ax in axs:\n",
    "    ax.set_xlim(samples[0], samples[300])\n",
    "    ax.tick_params(labelsize=15)\n",
    "    ax.grid()"
   ]
  },
  {
   "cell_type": "markdown",
   "id": "f8a2a696-93cc-4c88-a20b-8e100a8cf693",
   "metadata": {},
   "source": [
    "# ICA"
   ]
  },
  {
   "cell_type": "code",
   "execution_count": null,
   "id": "215ef2c9-d82d-4ee5-a24a-46233dc0f0ce",
   "metadata": {},
   "outputs": [],
   "source": [
    "from sklearn.decomposition import FastICA\n"
   ]
  },
  {
   "cell_type": "markdown",
   "id": "5ee55332-65c8-4677-8f49-7434dd92d86a",
   "metadata": {},
   "source": [
    "### Combine Test Signals"
   ]
  },
  {
   "cell_type": "code",
   "execution_count": null,
   "id": "69fe6041-9dc9-4361-818e-9bf66a746668",
   "metadata": {},
   "outputs": [],
   "source": [
    "sig_1 = sig_sine + 0.3 * sig_saw + 0.2 * sig_rand \n",
    "sig_2 = 0.3 * sig_sine + sig_saw + 0.2 * sig_rand\n",
    "sig_3 = 0.2 * sig_sine + 0.2 * sig_saw + sig_rand\n",
    "\n",
    "Input = np.c_[sig_1, sig_2, sig_3]\n"
   ]
  },
  {
   "cell_type": "markdown",
   "id": "836981f8-6fb8-4ed4-95e1-f0eb4f8360ab",
   "metadata": {},
   "source": [
    "### Normalize Data"
   ]
  },
  {
   "cell_type": "code",
   "execution_count": null,
   "id": "16152c59-5ff7-4fa1-8715-fda0692a8052",
   "metadata": {},
   "outputs": [],
   "source": [
    "Input /= Input.std(axis=0)"
   ]
  },
  {
   "cell_type": "markdown",
   "id": "a3d9ed8b-4c15-4780-9b5d-d98f32a1bcdc",
   "metadata": {},
   "source": [
    "### Make Observation with Mixing Matrix"
   ]
  },
  {
   "cell_type": "code",
   "execution_count": null,
   "id": "e68578c4-ffc9-439f-a05a-c563417426ca",
   "metadata": {},
   "outputs": [],
   "source": [
    "Mixing = np.array([[0.5, 1, 0.2],\n",
    "              [1, 0.5, 0.4],\n",
    "              [0.5, 0.8, 1]])\n",
    "Observation = np.dot(Input, Mixing.T) "
   ]
  },
  {
   "cell_type": "markdown",
   "id": "87e2eabe-e871-40db-873e-3784d42dcd42",
   "metadata": {},
   "source": [
    "### Calculate FastICA"
   ]
  },
  {
   "cell_type": "code",
   "execution_count": null,
   "id": "7b9e591f-9038-421c-9933-e876f9bc8843",
   "metadata": {},
   "outputs": [],
   "source": [
    "ica = FastICA(n_components=3)\n",
    "Ica_recovered = ica.fit_transform(Observation) "
   ]
  },
  {
   "cell_type": "code",
   "execution_count": null,
   "id": "25e99ae7-6bc0-4eec-854c-eded6aa88010",
   "metadata": {},
   "outputs": [],
   "source": [
    "max_amp_ica_sine = max(Ica_recovered[:, 0])\n",
    "max_amp_ica_saw = max(Ica_recovered[:, 1])\n",
    "max_amp_ica_rand = max(Ica_recovered[:, 2])\n",
    "\n",
    "amp_factor = [max_amp_sine / max_amp_ica_sine, max_amp_saw / max_amp_ica_saw, max_amp_rand / max_amp_ica_rand]"
   ]
  },
  {
   "cell_type": "code",
   "execution_count": null,
   "id": "aab6e805-6dc9-4a45-ae90-9ecf06728bbd",
   "metadata": {},
   "outputs": [],
   "source": [
    "fig, axs = plt.subplots(3, 1, figsize=[18, 10], sharex=True, constrained_layout = True)\n",
    "fig.supylabel('Amplitude', fontsize=20)\n",
    "\n",
    "axs[0].plot(Observation, lw=5)\n",
    "axs[0].set_title('Observation', fontsize=25)\n",
    "\n",
    "axs[1].plot(Input, lw=5)\n",
    "axs[1].set_title('True Signal', fontsize=25)\n",
    "\n",
    "axs[2].plot(Ica_recovered, lw=5)\n",
    "axs[2].set_title('ICA Recovered', fontsize=25)\n",
    "axs[2].set_xlabel('Samples', fontsize=20)\n",
    "\n",
    "for ax in axs:\n",
    "    ax.set_xlim(samples[0], samples[300])\n",
    "    ax.tick_params(labelsize=15)\n",
    "    ax.grid()"
   ]
  },
  {
   "cell_type": "markdown",
   "id": "bcc72523-9d04-4c21-b8db-8cedeadbdee4",
   "metadata": {},
   "source": [
    "# Wavelet Transform"
   ]
  },
  {
   "cell_type": "code",
   "execution_count": null,
   "id": "833482ae-b92c-4f2b-b1bf-aed955288b78",
   "metadata": {},
   "outputs": [],
   "source": [
    "import pywt"
   ]
  },
  {
   "cell_type": "code",
   "execution_count": null,
   "id": "8d95f23b",
   "metadata": {},
   "outputs": [],
   "source": [
    "# print the wavelet families available\n",
    "print(pywt.families())\n",
    "# print a list of available wavelets from one family\n",
    "print(pywt.wavelist(\"sym\"))"
   ]
  },
  {
   "cell_type": "code",
   "execution_count": null,
   "id": "09d1b0cc",
   "metadata": {},
   "outputs": [],
   "source": [
    "sample_rate = 1.0e6\n",
    "ts = 1.0/sample_rate\n",
    "t = np.arange(0,1,ts)\n",
    "\n",
    "# frequency of the signal\n",
    "freq = 5   \n",
    "y1 = np.sin(2*np.pi*10e3*t)\n",
    "y2 = np.sin(2*np.pi*0.4e6*t) / 5\n",
    "\n",
    "wt_mix = y1 + y2"
   ]
  },
  {
   "cell_type": "code",
   "execution_count": null,
   "id": "e3520b63",
   "metadata": {},
   "outputs": [],
   "source": [
    "fig, axs = plt.subplots(3, 1, figsize=[18, 10], sharex=True, constrained_layout = True)\n",
    "\n",
    "axs[0].plot(y1, lw=5)\n",
    "axs[0].set_title('Sine 1', fontsize=25)\n",
    "\n",
    "axs[1].plot(y2, lw=5, color='red')\n",
    "axs[1].set_title('Sine 2', fontsize=25)\n",
    "axs[1].set_ylabel('Amplitude', fontsize=20)\n",
    "\n",
    "axs[2].plot(wt_mix, lw=5, color='green')\n",
    "axs[2].set_title('Mixes', fontsize=25)\n",
    "axs[2].set_ylabel('Amplitude', fontsize=20)\n",
    "\n",
    "for ax in axs:\n",
    "    ax.set_xlim(samples[0], samples[700])\n",
    "    ax.tick_params(labelsize=15)\n",
    "    ax.grid()"
   ]
  },
  {
   "cell_type": "code",
   "execution_count": null,
   "id": "db38fbff",
   "metadata": {},
   "outputs": [],
   "source": [
    "coeffs = pywt.wavedec(wt_mix, 'sym12', mode='sym')\n",
    "# cA2, cD2, cD1 = coeffs"
   ]
  },
  {
   "cell_type": "code",
   "execution_count": null,
   "id": "c7205f23",
   "metadata": {},
   "outputs": [],
   "source": [
    "fig, axs = plt.subplots(len(coeffs)+1, 1, figsize=[18, 30], sharex=True, constrained_layout = True)\n",
    "fig.supylabel('Amplitude', fontsize=20)\n",
    "\n",
    "axs[0].plot(wt_mix, lw=5)\n",
    "axs[0].set_title('Mixed Data', fontsize=25)\n",
    "\n",
    "for ii, coeff in enumerate(coeffs):\n",
    "    axs[ii+1].plot(coeff, lw=5)\n",
    "    axs[ii+1].set_title('c'+ str(ii), fontsize=25)\n",
    "\n",
    "axs[len(coeffs)].set_xlabel('Samples', fontsize=20)\n",
    "\n",
    "for ax in axs:\n",
    "    ax.set_xlim(samples[0], samples[700])\n",
    "    ax.tick_params(labelsize=15)\n",
    "    ax.grid()"
   ]
  },
  {
   "cell_type": "code",
   "execution_count": null,
   "id": "5a717c19",
   "metadata": {},
   "outputs": [],
   "source": [
    "ctn = list(range(0, 2))\n",
    "for ii in ctn:\n",
    "    coeffs[-ii] = np.zeros_like(coeffs[-ii])\n",
    "\n",
    "recov_sig = pywt.waverec(coeffs, 'sym12', mode='sym')\n",
    "#recov_sig = pywt.waverec((cA2, cD1), 'bior6.8', mode='sym')"
   ]
  },
  {
   "cell_type": "code",
   "execution_count": null,
   "id": "751b5018",
   "metadata": {},
   "outputs": [],
   "source": [
    "fig, axs = plt.subplots(2, 1, figsize=[18, 10], sharex=True, constrained_layout = True)\n",
    "fig.supylabel('Amplitude', fontsize=20)\n",
    "\n",
    "axs[0].plot(wt_mix, lw=5)\n",
    "axs[0].set_title('Mixed Data', fontsize=25)\n",
    "\n",
    "axs[1].plot(recov_sig, lw=5)\n",
    "axs[1].set_title('Recovered Signal', fontsize=25)\n",
    "\n",
    "for ax in axs:\n",
    "    ax.set_xlim(samples[0], samples[700])\n",
    "    ax.tick_params(labelsize=15)\n",
    "    ax.grid()"
   ]
  },
  {
   "cell_type": "markdown",
   "id": "6e7468ff",
   "metadata": {},
   "source": [
    "# STFT"
   ]
  },
  {
   "cell_type": "code",
   "execution_count": null,
   "id": "1df0919b",
   "metadata": {},
   "outputs": [],
   "source": [
    "import scipy.signal as signal"
   ]
  },
  {
   "cell_type": "code",
   "execution_count": null,
   "id": "261bef32",
   "metadata": {},
   "outputs": [],
   "source": [
    "f, t, Zxx = signal.stft(wt_mix, fs=sample_rate, nperseg=1000)\n",
    "plt.pcolormesh(t, f, np.abs(Zxx))\n",
    "plt.title('STFT Magnitude')\n",
    "plt.ylabel('Frequency [Hz]')\n",
    "plt.xlabel('Time [sec]')\n"
   ]
  },
  {
   "cell_type": "markdown",
   "id": "9197ffcc-c83b-4287-8b87-f0cdd80336cf",
   "metadata": {},
   "source": [
    "# Adaptive Filter"
   ]
  },
  {
   "cell_type": "code",
   "execution_count": null,
   "id": "dcf87651-8a56-4764-89b7-c136ae713064",
   "metadata": {},
   "outputs": [],
   "source": [
    "import padasip as pa"
   ]
  },
  {
   "cell_type": "code",
   "execution_count": null,
   "id": "97c09ace",
   "metadata": {},
   "outputs": [],
   "source": [
    "# signals creation: u, v, d\n",
    "N = 5000\n",
    "n = 10\n",
    "u = np.sin(np.arange(0, N/10., N/50000.))\n",
    "v = np.random.normal(0, 1, N)/5\n",
    "d = u + v\n",
    "\n",
    "# filtering\n",
    "x = pa.input_from_history(d, n)[:-1]\n",
    "d = d[n:]\n",
    "u = u[n:]\n",
    "f = pa.filters.FilterRLS(mu=1., n=n)\n",
    "y, e, w = f.run(d, x)\n",
    "\n",
    "# error estimation\n",
    "MSE_d = np.dot(u-d, u-d) / float(len(u))\n",
    "MSE_y = np.dot(u-y, u-y) / float(len(u))\n",
    "\n",
    "# results\n",
    "plt.figure(figsize=(12.5,6))\n",
    "plt.plot(u, \"r:\", linewidth=4, label=\"original\")\n",
    "plt.plot(d, \"b\", label=\"noisy, MSE: {}\".format(MSE_d))\n",
    "plt.plot(y, \"g\", label=\"filtered, MSE: {}\".format(MSE_y))\n",
    "plt.xlim(N-100,N)\n",
    "plt.legend()\n",
    "plt.tight_layout()"
   ]
  }
 ],
 "metadata": {
  "kernelspec": {
   "display_name": "Python 3 (ipykernel)",
   "language": "python",
   "name": "python3"
  },
  "language_info": {
   "codemirror_mode": {
    "name": "ipython",
    "version": 3
   },
   "file_extension": ".py",
   "mimetype": "text/x-python",
   "name": "python",
   "nbconvert_exporter": "python",
   "pygments_lexer": "ipython3",
   "version": "3.9.7"
  }
 },
 "nbformat": 4,
 "nbformat_minor": 5
}
